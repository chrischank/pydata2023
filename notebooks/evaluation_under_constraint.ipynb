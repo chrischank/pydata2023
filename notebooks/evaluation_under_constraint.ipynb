{
 "cells": [
  {
   "cell_type": "markdown",
   "metadata": {},
   "source": [
    "## Paradoxes in model training and evaluation under constraints\n",
    "\n",
    "### Forecasting strawberry box sales\n",
    "Strawberries need to be sold ultrafresh\n",
    "When was the capacity hit, when are too few ordered, and what is the unconstrained demand forecast\n",
    "\n",
    "We want meaningful training and evaluation\n",
    "\n",
    "### We need to use probability theory to derive the right answer\n",
    "\n",
    "- Our workhorse: upper-censored PDF for constrinaed demand\n",
    "\n",
    "- How does capacity impact expected sales?\n",
    "\n",
    "In practice, you want to use the Unconstrained Demand Forecast to choose the Capacity, this is combined to get the Constrained Sales Forecast\n",
    "\n",
    "What happens when we train model on constrained demand?\n",
    "- This is unrealistic, there will be many unhappy customers\n",
    "- Capacity hit every day, you will never know the true demand\n",
    "- Data Scientists want to be conservative, and capacity is never hit, but does not reflect true demand, and many strawberry will go to waste\n",
    "\n",
    "### Balance between the optimal for Data Scientist and optimal for Sales is needed\n",
    "\n",
    "We could just train on the days on which capacity was not hit, but then we will keep decreasing and underforecasting.\n",
    "We are then inducing the hindisght bias, to avoid this we need to truncate the data\n",
    "\n",
    "### We should evaluate by predicted capacity hit probability\n",
    "### Please take constraint seriously\n",
    "### Group by prediction, not by outcome, Don't look back, look forward\n",
    "### Think probabilistically!\n",
    "### Simulate the ideal clean case first, sandbox, then real"
   ]
  },
  {
   "cell_type": "markdown",
   "metadata": {},
   "source": []
  }
 ],
 "metadata": {
  "language_info": {
   "name": "python"
  }
 },
 "nbformat": 4,
 "nbformat_minor": 2
}
