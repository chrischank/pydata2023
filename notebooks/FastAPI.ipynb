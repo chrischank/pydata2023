{
 "cells": [
  {
   "cell_type": "markdown",
   "metadata": {},
   "source": [
    "## FastAPI: API development for Data Analyst / Scientist\n",
    "\n",
    "There are different types of API, the most common is REST\n",
    "an API allow programs to interact with each other.\n",
    "\n",
    "REST = Representational State Transfer, it is a popular API architecture that communicate over HTTP\n",
    "\n",
    "### Elements:\n",
    "- Request: to access a resource via a URL\n",
    "- Response: returned content\n",
    "\n",
    "### FastAPI\n",
    "Super fast web framework for building web APIs with Python.\n",
    "\n",
    "### HTTP Method\n",
    "- GET\n",
    "Read or get a resource\n",
    "\n",
    "- POST\n",
    "Create a resource\n",
    "\n",
    "- PUT\n",
    "Update ore replace a resource\n",
    "\n",
    "- DELETE\n",
    "Delete a resource"
   ]
  },
  {
   "cell_type": "code",
   "execution_count": 2,
   "metadata": {},
   "outputs": [],
   "source": [
    "from fastapi import FastAPI\n",
    "\n",
    "# initiate app\n",
    "app = FastAPI()\n",
    "\n",
    "@app.get(\"/\")\n",
    "def read_root():\n",
    "    return{\"Hello\": \"World\"}"
   ]
  },
  {
   "cell_type": "code",
   "execution_count": null,
   "metadata": {},
   "outputs": [],
   "source": []
  }
 ],
 "metadata": {
  "kernelspec": {
   "display_name": "m_pydata",
   "language": "python",
   "name": "python3"
  },
  "language_info": {
   "codemirror_mode": {
    "name": "ipython",
    "version": 3
   },
   "file_extension": ".py",
   "mimetype": "text/x-python",
   "name": "python",
   "nbconvert_exporter": "python",
   "pygments_lexer": "ipython3",
   "version": "3.10.13"
  }
 },
 "nbformat": 4,
 "nbformat_minor": 2
}
