{
 "cells": [
  {
   "cell_type": "markdown",
   "metadata": {},
   "source": [
    "## Data Versioning\n",
    "\n",
    "We should version data, model behaviour and perforamce is very dependant on data versioning as well, and are sensitive to it\n",
    "\n",
    "We can use DVC package to version data, kinda like git, buty cache located locally on our machine.\n",
    "\n",
    "- DVC comes in dvc.yaml file\n",
    "- You can have DVC pipeline versioned with prepare --> train --> eval\n",
    "- Mostly use for experimentation not deployment\n",
    "- DVC is not a scheduling tool, we don't want to use the yaml file to run the pipeline"
   ]
  },
  {
   "cell_type": "markdown",
   "metadata": {},
   "source": []
  }
 ],
 "metadata": {
  "language_info": {
   "name": "python"
  }
 },
 "nbformat": 4,
 "nbformat_minor": 2
}
