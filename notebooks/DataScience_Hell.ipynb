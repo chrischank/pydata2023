{
 "cells": [
  {
   "cell_type": "markdown",
   "metadata": {},
   "source": [
    "## Data Science Hell\n",
    "\n",
    "### SIN\n",
    "1. Creating invalid csv files, using commas not enclosed withing strings\n",
    "2. Using (and not explicitly declaring) a million different placeholders for missing data\n",
    "3. Ignoring the value using \"one\" country name, confusing physical and political geography, writing dates in 100 different format.\n",
    "4. Creating identifiers so complex that you need an encyclopaedia to make sense of them.\n",
    "5. Providing data without metadata\n",
    "6. Providing data that are not machine-readable\n",
    "7. Asking DS to build an API having literally no idea of how source and target systems are built, what amount of data traffic is to be expected, and who should query the API in the end.\n",
    "8. Using AI without really thinking whether it is necessary / advisable or not\n",
    "9. Thinking that data are just data without asking or trying to understand what these data are really about, how they were generated."
   ]
  },
  {
   "cell_type": "markdown",
   "metadata": {},
   "source": []
  }
 ],
 "metadata": {
  "kernelspec": {
   "display_name": "m_pydata",
   "language": "python",
   "name": "python3"
  },
  "language_info": {
   "name": "python",
   "version": "3.10.13"
  }
 },
 "nbformat": 4,
 "nbformat_minor": 2
}
