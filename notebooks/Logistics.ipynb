{
 "cells": [
  {
   "cell_type": "markdown",
   "metadata": {},
   "source": [
    "## Logistics and Optimisation for on-demand delivery\n",
    "\n",
    "### Minimum Viable Model\n",
    "- Forecasting\n",
    "\n",
    "### Farm Share company\n",
    "- Consumer delivery service for farm-based goods\n",
    "- Started with manual, siled processes\n",
    "- Scaling and want tighter integration\n",
    "- Monthly forecastly, weekly scheduling, daily route planning\n",
    "\n",
    "https://github.com/ryanjoneil/2023-pydata-global-order-up"
   ]
  },
  {
   "cell_type": "markdown",
   "metadata": {},
   "source": [
    "### Demand forecast\n",
    "Question\n",
    "- How many orders\\\n",
    "Input\n",
    "- Historical order volume\\\n",
    "Output\n",
    "- Forecast order volume\\\n",
    "Approach\n",
    "- LAD regression\n",
    "\n",
    "### Shift scheduling\n",
    "Question\n",
    "- What drivers are available?\\\n",
    "Input\n",
    "- Required workers\n",
    "- Worker availability\\\n",
    "Output\n",
    "- Driver shift assignments\\\n",
    "Approach\n",
    "- MIP\n",
    "\n",
    "### Vehicle routing\n",
    "Question\n",
    "- What are the driver routes?\\\n",
    "Input\n",
    "- Available drivers\n",
    "Actual orders (stops)\\\n",
    "Output\n",
    "- Driver route assignments\\\n",
    "Approach\n",
    "- CP-SAT"
   ]
  },
  {
   "cell_type": "markdown",
   "metadata": {},
   "source": [
    "### Least Absolute Deviations == L1-norm\n",
    "- Robust to outlier\n",
    "- Customisable\n",
    "- Can model it as a linear program!"
   ]
  },
  {
   "cell_type": "markdown",
   "metadata": {},
   "source": [
    "### OR-Tool's CP-SAT hybrid solver\n",
    "\n"
   ]
  }
 ],
 "metadata": {
  "kernelspec": {
   "display_name": "m_pydata",
   "language": "python",
   "name": "python3"
  },
  "language_info": {
   "name": "python",
   "version": "3.10.13"
  }
 },
 "nbformat": 4,
 "nbformat_minor": 2
}
