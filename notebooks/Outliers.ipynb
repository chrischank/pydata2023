{
 "cells": [
  {
   "cell_type": "markdown",
   "metadata": {},
   "source": [
    "## Life in a lognomral world\n",
    "\n",
    "Some data follow log-normal, not gaussain, why do we seem them\n",
    "- Proportional gain\n",
    "- \n",
    "\n",
    "Distirbution of height and weight are qualitatively different\n",
    "\n",
    "CDFs are good way to test fit\n",
    "\n",
    "With US weight data, they fit better in a lognormal than normal?\n",
    "\n",
    "### Distribution of height is well-modelled by Gaussain\n",
    "### Distribution of weight is well-modelled by lognormal\n",
    "\n",
    "### Central Limit Theorem\n",
    "\n",
    "If you add up random factors, the sum converges to Gauussian IF:\n",
    "1. Identifcal distribution\n",
    "2. With finite moments\n",
    "3. Uncorrelated\n",
    "4. Infinite sample size\n",
    "5. Addition\n",
    "\n",
    "This is almost not usual in real life\n",
    "\n",
    "### Central Limit Corollary\n",
    "If you multiply random factor, the product tends to be lognormal, because multiplying factor is adding their logs\n",
    "\n",
    "- Our weight at birth follow gaussain, but each year we gain a percentage of a weight\n",
    "- I.e. we grow to be lognormal\n",
    "\n",
    "### Running is also lognormal!\n",
    "Speed limit are multiplicative!\n",
    "\n",
    "Simulate 100,000 from Guassian and lognormal, how far are they apart!\n",
    "- If they have same mean and variance, the lognormal have much longer tail GOAT!\n",
    "\n",
    "Estimating parameters, choosing model:\n",
    "1. Method of moments\n",
    "2. Maximum Likelihood\n",
    "3. Percentile\n",
    "\n",
    "- Comparisons of CDFs, Q-Q plot\n",
    "- Likelihood ratios, information criteria\n",
    "- KM, AD test\n",
    "\n",
    "### Minimise the area between the curve, use the area to measure\n",
    "### When both are good, it means both are bad\n"
   ]
  },
  {
   "cell_type": "code",
   "execution_count": null,
   "metadata": {},
   "outputs": [],
   "source": []
  }
 ],
 "metadata": {
  "language_info": {
   "name": "python"
  }
 },
 "nbformat": 4,
 "nbformat_minor": 2
}
